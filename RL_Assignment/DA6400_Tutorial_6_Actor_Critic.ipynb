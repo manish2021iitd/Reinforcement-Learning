{
  "cells": [
    {
      "cell_type": "markdown",
      "metadata": {
        "id": "ogYi-LuvgAEQ"
      },
      "source": [
        "# Tutorial: Actor Critic Implementation\n"
      ]
    },
    {
      "cell_type": "code",
      "execution_count": null,
      "metadata": {
        "id": "020OsgLKgJoS"
      },
      "outputs": [],
      "source": [
        "# Import required libraries\n",
        "\n",
        "import argparse\n",
        "import gymnasium as gym\n",
        "import numpy as np\n",
        "from collections import namedtuple\n",
        "\n",
        "import torch\n",
        "import torch.nn as nn\n",
        "import torch.nn.functional as F\n",
        "import torch.optim as optim\n",
        "from torch.distributions import Categorical"
      ]
    },
    {
      "cell_type": "code",
      "execution_count": null,
      "metadata": {
        "id": "BOx__gzXgP3T"
      },
      "outputs": [],
      "source": [
        "# Set constants for training # DO NOT CHANGE\n",
        "seed = 543\n",
        "log_interval = 10\n",
        "gamma = 0.99\n",
        "\n",
        "env = gym.make('CartPole-v1')\n",
        "env.reset(seed=seed)\n",
        "torch.manual_seed(seed)\n",
        "\n",
        "SavedAction = namedtuple('SavedAction', ['log_prob', 'value'])"
      ]
    },
    {
      "cell_type": "code",
      "execution_count": null,
      "metadata": {
        "id": "dYf6f8SBeQYo"
      },
      "outputs": [],
      "source": [
        "\n",
        "class Policy(nn.Module):\n",
        "    \"\"\"\n",
        "    implements both actor and critic in one model\n",
        "    \"\"\"\n",
        "\n",
        "    def __init__(self):\n",
        "        super(Policy, self).__init__()\n",
        "        self.affine1 = nn.Linear(4, 128)\n",
        "\n",
        "        # actor's layer\n",
        "        self.action_head = nn.Linear(128, 2)\n",
        "\n",
        "        # critic's layer\n",
        "        self.value_head = nn.Linear(128, 1)\n",
        "\n",
        "        # action & reward buffer\n",
        "        self.saved_actions = []\n",
        "        self.rewards = []\n",
        "\n",
        "    def forward(self, x):\n",
        "        \"\"\"\n",
        "        forward of both actor and critic\n",
        "        \"\"\"\n",
        "        x = F.relu(self.affine1(x))\n",
        "\n",
        "        # actor: choses action to take from state s_t\n",
        "        # by returning probability of each action\n",
        "        action_prob = F.softmax(self.action_head(x), dim=-1)\n",
        "\n",
        "        # critic: evaluates being in the state s_t\n",
        "        state_values = self.value_head(x)\n",
        "\n",
        "        # return values for both actor and critic as a tuple of 2 values:\n",
        "        # 1. a list with the probability of each action over the action space\n",
        "        # 2. the value from state s_t\n",
        "        return action_prob, state_values"
      ]
    },
    {
      "cell_type": "code",
      "execution_count": null,
      "metadata": {
        "id": "i579JI1oi6dc"
      },
      "outputs": [],
      "source": [
        "model = Policy()\n",
        "optimizer = optim.Adam(model.parameters(), lr=3e-2)\n",
        "eps = np.finfo(np.float32).eps.item()"
      ]
    },
    {
      "cell_type": "code",
      "execution_count": null,
      "metadata": {
        "id": "qrVieI21i3O9"
      },
      "outputs": [],
      "source": [
        "# DO NOT Modify Training Code\n",
        "\n",
        "def select_action(state):\n",
        "    state = torch.from_numpy(state).float()\n",
        "    probs, state_value = model(state)\n",
        "\n",
        "    # create a categorical distribution over the list of probabilities of actions\n",
        "    m = Categorical(probs)\n",
        "\n",
        "    # and sample an action using the distribution\n",
        "    action = m.sample()\n",
        "\n",
        "    # save to action buffer\n",
        "    model.saved_actions.append(SavedAction(m.log_prob(action), state_value))\n",
        "\n",
        "    # the action to take (left or right)\n",
        "    return action.item()\n",
        "\n",
        "\n",
        "def finish_episode():\n",
        "    \"\"\"\n",
        "    Training code. Calculates actor and critic loss and performs backprop.\n",
        "    \"\"\"\n",
        "    R = 0\n",
        "    saved_actions = model.saved_actions\n",
        "    policy_losses = []  # list to save actor (policy) loss\n",
        "    value_losses = []  # list to save critic (value) loss\n",
        "    returns = []  # list to save the true values\n",
        "\n",
        "    # calculate the true value using rewards returned from the environment\n",
        "    for r in model.rewards[::-1]:\n",
        "        # calculate the discounted value\n",
        "        R = r + gamma * R\n",
        "        returns.insert(0, R)\n",
        "\n",
        "    returns = torch.tensor(returns)\n",
        "    returns = (returns - returns.mean()) / (returns.std() + eps)\n",
        "\n",
        "    for (log_prob, value), R in zip(saved_actions, returns):\n",
        "        advantage = R - value.item()\n",
        "\n",
        "        # calculate actor (policy) loss\n",
        "        policy_losses.append(-log_prob * advantage)\n",
        "\n",
        "        # calculate critic (value) loss using L1 smooth loss\n",
        "        value_losses.append(F.smooth_l1_loss(value, torch.tensor([R])))\n",
        "\n",
        "    # reset gradients\n",
        "    optimizer.zero_grad()\n",
        "\n",
        "    # sum up all the values of policy_losses and value_losses\n",
        "    loss = torch.stack(policy_losses).sum() + torch.stack(value_losses).sum()\n",
        "\n",
        "    # perform backprop\n",
        "    loss.backward()\n",
        "    optimizer.step()\n",
        "\n",
        "    # reset rewards and action buffer\n",
        "    del model.rewards[:]\n",
        "    del model.saved_actions[:]\n",
        "\n",
        "\n",
        "def train():\n",
        "    running_reward = 10\n",
        "\n",
        "    # run infinitely many episodes\n",
        "    for i_episode in range(2000):\n",
        "\n",
        "        # reset environment and episode reward\n",
        "        state = env.reset()[0]\n",
        "        ep_reward = 0\n",
        "\n",
        "        # for each episode, only run 9999 steps so that we don't\n",
        "        # infinite loop while learning\n",
        "        for t in range(1, 10000):\n",
        "\n",
        "            # select action from policy\n",
        "            action = select_action(state)\n",
        "\n",
        "            # take the action\n",
        "            state, reward, done, truncated, _ = env.step(action)\n",
        "\n",
        "            model.rewards.append(reward)\n",
        "            ep_reward += reward\n",
        "            if done:\n",
        "                break\n",
        "\n",
        "        # update cumulative reward\n",
        "        running_reward = 0.05 * ep_reward + (1 - 0.05) * running_reward\n",
        "\n",
        "        # perform backprop\n",
        "        finish_episode()\n",
        "\n",
        "        # log results\n",
        "        if i_episode % log_interval == 0:\n",
        "            print('Episode {}\\tLast reward: {:.2f}\\tAverage reward: {:.2f}'.format(\n",
        "                  i_episode, ep_reward, running_reward))\n",
        "\n",
        "        # check if we have \"solved\" the cart pole problem\n",
        "        if running_reward > env.spec.reward_threshold:\n",
        "            print(\"Solved! Running reward is now {} and \"\n",
        "                  \"the last episode runs to {} time steps!\".format(running_reward, t))\n",
        "            break"
      ]
    },
    {
      "cell_type": "code",
      "execution_count": null,
      "metadata": {
        "colab": {
          "base_uri": "https://localhost:8080/"
        },
        "id": "jUT3maPMlGi2",
        "outputId": "ee2a9f18-eb1c-47d7-f855-2588762c68c0"
      },
      "outputs": [
        {
          "output_type": "stream",
          "name": "stdout",
          "text": [
            "Episode 0\tLast reward: 22.00\tAverage reward: 10.60\n",
            "Episode 10\tLast reward: 28.00\tAverage reward: 16.78\n",
            "Episode 20\tLast reward: 42.00\tAverage reward: 33.66\n",
            "Episode 30\tLast reward: 21.00\tAverage reward: 31.73\n",
            "Episode 40\tLast reward: 26.00\tAverage reward: 29.00\n",
            "Episode 50\tLast reward: 150.00\tAverage reward: 64.74\n",
            "Episode 60\tLast reward: 86.00\tAverage reward: 88.06\n",
            "Episode 70\tLast reward: 209.00\tAverage reward: 118.08\n",
            "Episode 80\tLast reward: 63.00\tAverage reward: 169.06\n",
            "Episode 90\tLast reward: 36.00\tAverage reward: 159.00\n",
            "Episode 100\tLast reward: 199.00\tAverage reward: 175.59\n",
            "Episode 110\tLast reward: 288.00\tAverage reward: 209.42\n",
            "Episode 120\tLast reward: 268.00\tAverage reward: 260.10\n",
            "Episode 130\tLast reward: 320.00\tAverage reward: 399.67\n",
            "Episode 140\tLast reward: 191.00\tAverage reward: 296.83\n",
            "Episode 150\tLast reward: 184.00\tAverage reward: 254.95\n",
            "Episode 160\tLast reward: 183.00\tAverage reward: 208.01\n",
            "Episode 170\tLast reward: 584.00\tAverage reward: 288.11\n",
            "Solved! Running reward is now 840.3643043227373 and the last episode runs to 9999 time steps!\n"
          ]
        }
      ],
      "source": [
        "train()"
      ]
    },
    {
      "cell_type": "markdown",
      "metadata": {
        "id": "lA2T0_22kK3g"
      },
      "source": [
        "# TODO: Write a policy class similar to the above, without using shared features for the actor and critic and compare their performance.\n"
      ]
    },
    {
      "cell_type": "code",
      "execution_count": null,
      "metadata": {
        "id": "qkE5fjLieZVg"
      },
      "outputs": [],
      "source": [
        "\n",
        "# TODO: Write a policy class similar to the above, without using shared features for the actor and critic and compare their\n",
        "# performance.\n",
        "\n",
        "class UnsharedPolicy(nn.Module):\n",
        "    def __init__(self):\n",
        "        super(UnsharedPolicy, self).__init__()\n",
        "        # TODO: Fill in.\n",
        "        hidden_size = 128\n",
        "        # Actor network\n",
        "        self.actor_affine1 =\n",
        "        self.action_head =\n",
        "\n",
        "        # Critic network\n",
        "        self.critic_affine1 =\n",
        "        self.value_head =\n",
        "\n",
        "        self.saved_actions = []\n",
        "        self.rewards = []\n",
        "\n",
        "    def forward(self, x):\n",
        "        # TODO: Fill in. For your networks, use the same hidden_size for the layers as the previous policy, that is 128.\n",
        "        # Actor forward pass\n",
        "        actor_x =\n",
        "        action_prob =\n",
        "\n",
        "        # Critic forward pass\n",
        "        critic_x =\n",
        "        state_values =\n",
        "        # return values for both actor and critic as a tuple of 2 values:\n",
        "        # 1. A list with the probability of each action over the action space\n",
        "        # 2. The value from state s_t\n",
        "        return action_prob, state_values\n",
        "\n"
      ]
    },
    {
      "cell_type": "code",
      "execution_count": null,
      "metadata": {
        "id": "l6UxnVPkkWkH",
        "colab": {
          "base_uri": "https://localhost:8080/"
        },
        "outputId": "07ccf741-2399-4706-d437-e7f5c716d833"
      },
      "outputs": [
        {
          "output_type": "stream",
          "name": "stdout",
          "text": [
            "Episode 0\tLast reward: 48.00\tAverage reward: 11.90\n",
            "Episode 10\tLast reward: 28.00\tAverage reward: 31.51\n",
            "Episode 20\tLast reward: 200.00\tAverage reward: 128.80\n",
            "Episode 30\tLast reward: 101.00\tAverage reward: 119.36\n",
            "Episode 40\tLast reward: 108.00\tAverage reward: 111.66\n",
            "Episode 50\tLast reward: 105.00\tAverage reward: 101.82\n",
            "Episode 60\tLast reward: 114.00\tAverage reward: 103.87\n",
            "Episode 70\tLast reward: 141.00\tAverage reward: 112.96\n",
            "Episode 80\tLast reward: 149.00\tAverage reward: 248.79\n",
            "Episode 90\tLast reward: 131.00\tAverage reward: 209.85\n",
            "Episode 100\tLast reward: 113.00\tAverage reward: 151.86\n",
            "Episode 110\tLast reward: 117.00\tAverage reward: 133.97\n",
            "Episode 120\tLast reward: 108.00\tAverage reward: 118.96\n",
            "Episode 130\tLast reward: 149.00\tAverage reward: 124.86\n",
            "Episode 140\tLast reward: 184.00\tAverage reward: 141.46\n",
            "Episode 150\tLast reward: 259.00\tAverage reward: 171.79\n",
            "Episode 160\tLast reward: 294.00\tAverage reward: 225.22\n",
            "Episode 170\tLast reward: 335.00\tAverage reward: 259.82\n",
            "Episode 180\tLast reward: 324.00\tAverage reward: 279.38\n",
            "Episode 190\tLast reward: 558.00\tAverage reward: 344.01\n",
            "Solved! Running reward is now 875.0780435869228 and the last episode runs to 9999 time steps!\n",
            "CPU times: user 57.8 s, sys: 456 ms, total: 58.3 s\n",
            "Wall time: 58.6 s\n"
          ]
        }
      ],
      "source": [
        "%%time\n",
        "model = UnsharedPolicy()\n",
        "optimizer = optim.Adam(model.parameters(), lr=3e-2)\n",
        "eps = np.finfo(np.float32).eps.item()\n",
        "train()"
      ]
    },
    {
      "cell_type": "code",
      "execution_count": null,
      "metadata": {
        "id": "FG2ZpUfdkdif"
      },
      "outputs": [],
      "source": []
    }
  ],
  "metadata": {
    "colab": {
      "provenance": []
    },
    "kernelspec": {
      "display_name": "Python 3",
      "name": "python3"
    },
    "language_info": {
      "codemirror_mode": {
        "name": "ipython",
        "version": 3
      },
      "file_extension": ".py",
      "mimetype": "text/x-python",
      "name": "python",
      "nbconvert_exporter": "python",
      "pygments_lexer": "ipython3",
      "version": "3.11.7"
    }
  },
  "nbformat": 4,
  "nbformat_minor": 0
}